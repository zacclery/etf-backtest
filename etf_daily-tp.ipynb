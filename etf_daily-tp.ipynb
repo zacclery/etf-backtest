{
 "cells": [
  {
   "cell_type": "code",
   "execution_count": 1,
   "id": "9b555fc9-ebc2-4356-8ea5-787f37e9b3f0",
   "metadata": {
    "tags": []
   },
   "outputs": [],
   "source": [
    "import pandas as pd\n",
    "from datetime import datetime, timedelta\n",
    "import yfinance as yf  # https://pypi.org/project/yfinance/"
   ]
  },
  {
   "cell_type": "code",
   "execution_count": 76,
   "id": "f7e0375f-5a72-4743-b4ee-c95b83c6342d",
   "metadata": {
    "tags": []
   },
   "outputs": [],
   "source": [
    "NO_YEARS = 20\n",
    "DAILY_INVEST = 10000 # €100\n",
    "TICKERS = [\n",
    "    \"AIAG.L\", # L&G Artificial Intelligence UCITS ETF (AIAG.L)\n",
    "    \"NBTK.DE\",  # Invesco NASDAQ Biotech UCITS ETF (NBTK.DE)\n",
    "    \"XMLH.DE\", # L&G Healthcare Breakthrough UCITS ETF (XMLH.DE)\n",
    "    \"ROBO\", # Robo Global Robotics and Automation Index ETF (ROBO)\n",
    "    \"TIUP.DE\", # Lyxor Core US TIPS (DR) UCITS ETF (TIUP.DE)\n",
    "    \"VWRL.AS\", # Vanguard FTSE All-World UCITS ETF (VWRL.AS)\n",
    "    \"VFEM.AS\", # Vanguard FTSE Emerging Markets UCITS ETF (VFEM.AS)\n",
    "    \"DXSA.DE\", # Xtrackers Euro Stoxx Quality Dividend UCITS ETF (DXSA.DE)\n",
    "    \"SXR8.DE\", # iShares VII PLC - iShares Core S&P 500 UCITS ETF (SXR8.DE)\n",
    "    \"IPRP.AS\", # iShares European Property Yield UCITS ETF (IPRP.AS)\n",
    "    \"2B78.DE\", # iShares Healthcare Innovation UCITS ETF (2B78.DE)\n",
    "]"
   ]
  },
  {
   "cell_type": "code",
   "execution_count": 77,
   "id": "c4793473-72ee-49c6-8b36-e21e6bfb5678",
   "metadata": {
    "tags": []
   },
   "outputs": [],
   "source": [
    "dfs = []\n",
    "dates = set() # Keep track of distinct dates in all DataFrames.\n",
    "# Create a list of DataFrames\n",
    "for tick in TICKERS:\n",
    "    df = yf.Ticker(tick).history(period=f\"{NO_YEARS}y\")\n",
    "    df[\"Change\"] = df[\"Close\"].pct_change()*100\n",
    "    df.drop(index=df.index[0], axis=0, inplace=True)  # no change on 1st day\n",
    "    df.reset_index(inplace=True)  # make idx a col\n",
    "    df = df[[\"Date\", \"Close\", \"Change\"]]\n",
    "    df[\"Tick\"] = tick\n",
    "    df[\"Date\"] = df[\"Date\"].dt.date\n",
    "    dates = dates | set(df[\"Date\"])\n",
    "    dfs.append(df)"
   ]
  },
  {
   "cell_type": "code",
   "execution_count": 78,
   "id": "53e33df3-10e7-49dc-8ff9-c7e65a54d506",
   "metadata": {
    "tags": []
   },
   "outputs": [],
   "source": [
    "# Make one DataFrame with all tickers' data so calculations can be vectorized:\n",
    "df = pd.DataFrame(index=sorted(dates))\n",
    "for ticker_df in dfs:\n",
    "    tick = ticker_df[\"Tick\"].iloc[0]\n",
    "    for col in (\"Close\", \"Change\"):\n",
    "        df[f\"{tick}_{col}\"] = ticker_df.set_index(\"Date\")[col]\n",
    "df.tail()\n",
    "s_and_p_df = df[[\"SXR8.DE_Close\"]].copy(deep=True)"
   ]
  },
  {
   "cell_type": "code",
   "execution_count": 79,
   "id": "64677f3e-6582-446a-b8f6-c2a64ca71eaf",
   "metadata": {},
   "outputs": [
    {
     "data": {
      "text/html": [
       "<div>\n",
       "<style scoped>\n",
       "    .dataframe tbody tr th:only-of-type {\n",
       "        vertical-align: middle;\n",
       "    }\n",
       "\n",
       "    .dataframe tbody tr th {\n",
       "        vertical-align: top;\n",
       "    }\n",
       "\n",
       "    .dataframe thead th {\n",
       "        text-align: right;\n",
       "    }\n",
       "</style>\n",
       "<table border=\"1\" class=\"dataframe\">\n",
       "  <thead>\n",
       "    <tr style=\"text-align: right;\">\n",
       "      <th></th>\n",
       "      <th>min_pct_change</th>\n",
       "      <th>min_ticker_close_value</th>\n",
       "    </tr>\n",
       "  </thead>\n",
       "  <tbody>\n",
       "    <tr>\n",
       "      <th>2023-05-19</th>\n",
       "      <td>VFEM.AS_Change</td>\n",
       "      <td>49.889999</td>\n",
       "    </tr>\n",
       "    <tr>\n",
       "      <th>2023-05-22</th>\n",
       "      <td>TIUP.DE_Change</td>\n",
       "      <td>100.330002</td>\n",
       "    </tr>\n",
       "    <tr>\n",
       "      <th>2023-05-23</th>\n",
       "      <td>ROBO_Change</td>\n",
       "      <td>54.220001</td>\n",
       "    </tr>\n",
       "    <tr>\n",
       "      <th>2023-05-24</th>\n",
       "      <td>AIAG.L_Change</td>\n",
       "      <td>1143.500000</td>\n",
       "    </tr>\n",
       "    <tr>\n",
       "      <th>2023-05-25</th>\n",
       "      <td>NBTK.DE_Change</td>\n",
       "      <td>39.040001</td>\n",
       "    </tr>\n",
       "  </tbody>\n",
       "</table>\n",
       "</div>"
      ],
      "text/plain": [
       "            min_pct_change  min_ticker_close_value\n",
       "2023-05-19  VFEM.AS_Change               49.889999\n",
       "2023-05-22  TIUP.DE_Change              100.330002\n",
       "2023-05-23     ROBO_Change               54.220001\n",
       "2023-05-24   AIAG.L_Change             1143.500000\n",
       "2023-05-25  NBTK.DE_Change               39.040001"
      ]
     },
     "execution_count": 79,
     "metadata": {},
     "output_type": "execute_result"
    }
   ],
   "source": [
    "# Create column to identify ticker with minimum percent change in each row:\n",
    "pct_change_cols = [c for c in df.columns if c.endswith(\"_Change\")]\n",
    "df[\"min_pct_change\"] = df[pct_change_cols].idxmin(axis=1)\n",
    "\n",
    "# Add the close value for the minimum identified ticker:\n",
    "df[\"min_ticker_close_value\"] = df.apply(\n",
    "    lambda row: row[row[\"min_pct_change\"].replace(\"Change\", \"Close\")], axis=1)\n",
    "\n",
    "df[[\"min_pct_change\", \"min_ticker_close_value\"]].tail()"
   ]
  },
  {
   "cell_type": "code",
   "execution_count": 80,
   "id": "a661fb0d-bfdb-4803-bbd6-c243491b9ff5",
   "metadata": {
    "tags": []
   },
   "outputs": [
    {
     "data": {
      "text/html": [
       "<div>\n",
       "<style scoped>\n",
       "    .dataframe tbody tr th:only-of-type {\n",
       "        vertical-align: middle;\n",
       "    }\n",
       "\n",
       "    .dataframe tbody tr th {\n",
       "        vertical-align: top;\n",
       "    }\n",
       "\n",
       "    .dataframe thead th {\n",
       "        text-align: right;\n",
       "    }\n",
       "</style>\n",
       "<table border=\"1\" class=\"dataframe\">\n",
       "  <thead>\n",
       "    <tr style=\"text-align: right;\">\n",
       "      <th></th>\n",
       "      <th>min_pct_change</th>\n",
       "      <th>min_ticker_close_value</th>\n",
       "      <th>shares_bought</th>\n",
       "    </tr>\n",
       "  </thead>\n",
       "  <tbody>\n",
       "    <tr>\n",
       "      <th>2023-05-19</th>\n",
       "      <td>VFEM.AS_Change</td>\n",
       "      <td>49.889999</td>\n",
       "      <td>200.440973</td>\n",
       "    </tr>\n",
       "    <tr>\n",
       "      <th>2023-05-22</th>\n",
       "      <td>TIUP.DE_Change</td>\n",
       "      <td>100.330002</td>\n",
       "      <td>99.671084</td>\n",
       "    </tr>\n",
       "    <tr>\n",
       "      <th>2023-05-23</th>\n",
       "      <td>ROBO_Change</td>\n",
       "      <td>54.220001</td>\n",
       "      <td>184.433784</td>\n",
       "    </tr>\n",
       "    <tr>\n",
       "      <th>2023-05-24</th>\n",
       "      <td>AIAG.L_Change</td>\n",
       "      <td>1143.500000</td>\n",
       "      <td>8.745081</td>\n",
       "    </tr>\n",
       "    <tr>\n",
       "      <th>2023-05-25</th>\n",
       "      <td>NBTK.DE_Change</td>\n",
       "      <td>39.040001</td>\n",
       "      <td>256.147535</td>\n",
       "    </tr>\n",
       "  </tbody>\n",
       "</table>\n",
       "</div>"
      ],
      "text/plain": [
       "            min_pct_change  min_ticker_close_value  shares_bought\n",
       "2023-05-19  VFEM.AS_Change               49.889999     200.440973\n",
       "2023-05-22  TIUP.DE_Change              100.330002      99.671084\n",
       "2023-05-23     ROBO_Change               54.220001     184.433784\n",
       "2023-05-24   AIAG.L_Change             1143.500000       8.745081\n",
       "2023-05-25  NBTK.DE_Change               39.040001     256.147535"
      ]
     },
     "execution_count": 80,
     "metadata": {},
     "output_type": "execute_result"
    }
   ],
   "source": [
    "# Divide min_ticker_close_value by daily invest amount to calculate number of shares bought:\n",
    "df[\"shares_bought\"] = DAILY_INVEST / df[\"min_ticker_close_value\"]\n",
    "df[[\"min_pct_change\", \"min_ticker_close_value\", \"shares_bought\"]].tail()"
   ]
  },
  {
   "cell_type": "code",
   "execution_count": 81,
   "id": "d7f63232-c8af-4d4d-845b-300eb72e84e4",
   "metadata": {
    "tags": []
   },
   "outputs": [
    {
     "data": {
      "text/plain": [
       "{'2B78.DE': 274311.9303552019,\n",
       " 'AIAG.L': 1317.869944215018,\n",
       " 'DXSA.DE': 472786.722589045,\n",
       " 'IPRP.AS': 354467.67819743673,\n",
       " 'NBTK.DE': 29528.54680089079,\n",
       " 'ROBO': 139027.2788654988,\n",
       " 'SXR8.DE': 41734.35329484815,\n",
       " 'TIUP.DE': 29521.33425301259,\n",
       " 'VFEM.AS': 99514.7952312188,\n",
       " 'VWRL.AS': 9611.616851074152,\n",
       " 'XMLH.DE': 63386.1338518698}"
      ]
     },
     "execution_count": 81,
     "metadata": {},
     "output_type": "execute_result"
    }
   ],
   "source": [
    "# Calculate total shares bought in each ticker:\n",
    "shares_bought = df.groupby([\"min_pct_change\"])[\"shares_bought\"].sum()\n",
    "shares_bought = {k.replace(\"_Change\", \"\"): v for k, v in shares_bought.items()}\n",
    "shares_bought"
   ]
  },
  {
   "cell_type": "code",
   "execution_count": 82,
   "id": "e24fdf61-69cd-48e4-baa8-42a06d6dc563",
   "metadata": {},
   "outputs": [
    {
     "data": {
      "text/plain": [
       "{'AIAG.L': 1163.5,\n",
       " 'NBTK.DE': 39.040000915527344,\n",
       " 'XMLH.DE': 11.027999877929688,\n",
       " 'ROBO': 54.170101165771484,\n",
       " 'TIUP.DE': 100.92500305175781,\n",
       " 'VWRL.AS': 99.04000091552734,\n",
       " 'VFEM.AS': 49.529998779296875,\n",
       " 'DXSA.DE': 20.18000030517578,\n",
       " 'SXR8.DE': 401.5899963378906,\n",
       " 'IPRP.AS': 23.584999084472656,\n",
       " '2B78.DE': 6.918000221252441}"
      ]
     },
     "execution_count": 82,
     "metadata": {},
     "output_type": "execute_result"
    }
   ],
   "source": [
    "# Calculate final close prices of tickers:\n",
    "final_close_prices = {\n",
    "    k.replace(\"_Close\", \"\"): v\n",
    "    for k, v in df.ffill().iloc[-1].items() \n",
    "    if \"_Close\" in k\n",
    "}\n",
    "final_close_prices"
   ]
  },
  {
   "cell_type": "code",
   "execution_count": 83,
   "id": "5d5dbec1-4b3c-4dbc-87b5-433a9cff8120",
   "metadata": {
    "tags": []
   },
   "outputs": [
    {
     "data": {
      "text/plain": [
       "{'2B78.DE': 1897689.994889471,\n",
       " 'AIAG.L': 1533341.6800941734,\n",
       " 'DXSA.DE': 9540836.206129985,\n",
       " 'IPRP.AS': 8360119.865761694,\n",
       " 'NBTK.DE': 1152794.4941409684,\n",
       " 'ROBO': 7531121.760945994,\n",
       " 'SXR8.DE': 16760098.786842303,\n",
       " 'TIUP.DE': 2979440.749577258,\n",
       " 'VFEM.AS': 4928967.686324245,\n",
       " 'VWRL.AS': 951934.541730082,\n",
       " 'XMLH.DE': 699022.276380855}"
      ]
     },
     "execution_count": 83,
     "metadata": {},
     "output_type": "execute_result"
    }
   ],
   "source": [
    "# Calculate final value of holdings:\n",
    "final_value = {k: v * final_close_prices[k] for k, v in shares_bought.items()}\n",
    "final_value"
   ]
  },
  {
   "cell_type": "code",
   "execution_count": 84,
   "id": "52942c71-f999-417b-a2ac-13bdc6fc9c73",
   "metadata": {
    "tags": []
   },
   "outputs": [
    {
     "name": "stdout",
     "output_type": "stream",
     "text": [
      "Final Value: €563,353.68\n",
      "Amount Invested: €396,500.00\n",
      "42.082% change over 20 years\n"
     ]
    }
   ],
   "source": [
    "total_final_value = sum(final_value.values()) / 100\n",
    "print(f\"Final Value: {'€{:,.2f}'.format(total_final_value)}\")\n",
    "amount_invested = DAILY_INVEST * len(df) / 100\n",
    "print(f\"Amount Invested: {'€{:,.2f}'.format(amount_invested)}\")\n",
    "pct_change = (total_final_value - amount_invested) / amount_invested\n",
    "print(f\"{round(pct_change * 100, 3)}% change over {NO_YEARS} years\")"
   ]
  },
  {
   "cell_type": "code",
   "execution_count": 85,
   "id": "9a27705d-a184-4b6e-accd-fe6242ad69a3",
   "metadata": {},
   "outputs": [
    {
     "name": "stdout",
     "output_type": "stream",
     "text": [
      "Final Value: €834,033.56\n",
      "Amount Invested: €330,600.00\n",
      "152.279% change over 20 years\n"
     ]
    }
   ],
   "source": [
    "s_and_p_df[\"amt\"] = DAILY_INVEST / s_and_p_df[\"SXR8.DE_Close\"]\n",
    "s_and_p_df = s_and_p_df[s_and_p_df[\"SXR8.DE_Close\"].notna()]\n",
    "s_and_p_df[\"value\"] = s_and_p_df[\"amt\"] * final_close_prices[\"SXR8.DE\"]\n",
    "\n",
    "total_final_value = sum(s_and_p_df[\"value\"]) / 100\n",
    "print(f\"Final Value: {'€{:,.2f}'.format(total_final_value)}\")\n",
    "\n",
    "amount_invested = DAILY_INVEST * len(s_and_p_df) / 100\n",
    "print(f\"Amount Invested: {'€{:,.2f}'.format(amount_invested)}\")\n",
    "pct_change = (total_final_value - amount_invested) / amount_invested\n",
    "print(f\"{round(pct_change * 100, 3)}% change over {NO_YEARS} years\")"
   ]
  },
  {
   "cell_type": "code",
   "execution_count": null,
   "id": "357c0aa8-2e38-4196-aebb-a83bceff027d",
   "metadata": {},
   "outputs": [],
   "source": []
  }
 ],
 "metadata": {
  "kernelspec": {
   "display_name": "Python 3 (ipykernel)",
   "language": "python",
   "name": "python3"
  },
  "language_info": {
   "codemirror_mode": {
    "name": "ipython",
    "version": 3
   },
   "file_extension": ".py",
   "mimetype": "text/x-python",
   "name": "python",
   "nbconvert_exporter": "python",
   "pygments_lexer": "ipython3",
   "version": "3.9.13"
  }
 },
 "nbformat": 4,
 "nbformat_minor": 5
}