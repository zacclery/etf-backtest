{
 "cells": [
  {
   "cell_type": "code",
   "execution_count": 1,
   "id": "9b555fc9-ebc2-4356-8ea5-787f37e9b3f0",
   "metadata": {
    "tags": []
   },
   "outputs": [],
   "source": [
    "import pandas as pd\n",
    "from datetime import datetime, timedelta\n",
    "import yfinance as yf  # https://pypi.org/project/yfinance/"
   ]
  },
  {
   "cell_type": "code",
   "execution_count": 2,
   "id": "f7e0375f-5a72-4743-b4ee-c95b83c6342d",
   "metadata": {
    "tags": []
   },
   "outputs": [],
   "source": [
    "tickers = [\n",
    "    \"AIAG.L\", # L&G Artificial Intelligence UCITS ETF (AIAG.L)\n",
    "    \"NBTK.DE\",  # Invesco NASDAQ Biotech UCITS ETF (NBTK.DE)\n",
    "    \"XMLH.DE\", # L&G Healthcare Breakthrough UCITS ETF (XMLH.DE)\n",
    "    \"ROBO\", # Robo Global Robotics and Automation Index ETF (ROBO)\n",
    "    \"TIUP.DE\", # Lyxor Core US TIPS (DR) UCITS ETF (TIUP.DE)\n",
    "    \"VWRL.AS\", # Vanguard FTSE All-World UCITS ETF (VWRL.AS)\n",
    "    \"VFEM.AS\", # Vanguard FTSE Emerging Markets UCITS ETF (VFEM.AS)\n",
    "    \"DXSA.DE\", # Xtrackers Euro Stoxx Quality Dividend UCITS ETF (DXSA.DE)\n",
    "    \"SXR8.DE\", # iShares VII PLC - iShares Core S&P 500 UCITS ETF (SXR8.DE)\n",
    "    \"IPRP.AS\", # iShares European Property Yield UCITS ETF (IPRP.AS)\n",
    "    \"2B78.DE\", # iShares Healthcare Innovation UCITS ETF (2B78.DE)\n",
    "]\n",
    "no_years = 5"
   ]
  },
  {
   "cell_type": "code",
   "execution_count": 3,
   "id": "c4793473-72ee-49c6-8b36-e21e6bfb5678",
   "metadata": {
    "tags": []
   },
   "outputs": [],
   "source": [
    "dfs = []\n",
    "dates = set() # Keep track of distinct dates in all DataFrames.\n",
    "# Create a list of DataFrames\n",
    "for tick in tickers:\n",
    "    df = yf.Ticker(tick).history(period=f\"{no_years}y\")\n",
    "    df[\"Change\"] = df[\"Close\"].pct_change()*100\n",
    "    df.drop(index=df.index[0], axis=0, inplace=True)  # no change on 1st day\n",
    "    df.reset_index(inplace=True)  # make idx a col\n",
    "    df = df[[\"Date\", \"Close\", \"Change\"]]\n",
    "    df[\"Tick\"] = tick\n",
    "    df[\"Date\"] = df[\"Date\"].dt.date\n",
    "    dates = dates | set(df[\"Date\"])\n",
    "    dfs.append(df)"
   ]
  },
  {
   "cell_type": "code",
   "execution_count": 4,
   "id": "53e33df3-10e7-49dc-8ff9-c7e65a54d506",
   "metadata": {
    "tags": []
   },
   "outputs": [
    {
     "data": {
      "text/html": [
       "<div>\n",
       "<style scoped>\n",
       "    .dataframe tbody tr th:only-of-type {\n",
       "        vertical-align: middle;\n",
       "    }\n",
       "\n",
       "    .dataframe tbody tr th {\n",
       "        vertical-align: top;\n",
       "    }\n",
       "\n",
       "    .dataframe thead th {\n",
       "        text-align: right;\n",
       "    }\n",
       "</style>\n",
       "<table border=\"1\" class=\"dataframe\">\n",
       "  <thead>\n",
       "    <tr style=\"text-align: right;\">\n",
       "      <th></th>\n",
       "      <th>AIAG.L_Close</th>\n",
       "      <th>AIAG.L_Change</th>\n",
       "      <th>NBTK.DE_Close</th>\n",
       "      <th>NBTK.DE_Change</th>\n",
       "      <th>XMLH.DE_Close</th>\n",
       "      <th>XMLH.DE_Change</th>\n",
       "      <th>ROBO_Close</th>\n",
       "      <th>ROBO_Change</th>\n",
       "      <th>TIUP.DE_Close</th>\n",
       "      <th>TIUP.DE_Change</th>\n",
       "      <th>...</th>\n",
       "      <th>VFEM.AS_Close</th>\n",
       "      <th>VFEM.AS_Change</th>\n",
       "      <th>DXSA.DE_Close</th>\n",
       "      <th>DXSA.DE_Change</th>\n",
       "      <th>SXR8.DE_Close</th>\n",
       "      <th>SXR8.DE_Change</th>\n",
       "      <th>IPRP.AS_Close</th>\n",
       "      <th>IPRP.AS_Change</th>\n",
       "      <th>2B78.DE_Close</th>\n",
       "      <th>2B78.DE_Change</th>\n",
       "    </tr>\n",
       "  </thead>\n",
       "  <tbody>\n",
       "    <tr>\n",
       "      <th>2023-05-18</th>\n",
       "      <td>1142.500000</td>\n",
       "      <td>2.816779</td>\n",
       "      <td>39.605000</td>\n",
       "      <td>0.904457</td>\n",
       "      <td>11.282</td>\n",
       "      <td>1.111307</td>\n",
       "      <td>54.549999</td>\n",
       "      <td>1.394052</td>\n",
       "      <td>101.089996</td>\n",
       "      <td>0.262831</td>\n",
       "      <td>...</td>\n",
       "      <td>50.180000</td>\n",
       "      <td>0.139692</td>\n",
       "      <td>20.555000</td>\n",
       "      <td>0.464327</td>\n",
       "      <td>403.559998</td>\n",
       "      <td>1.788281</td>\n",
       "      <td>23.860001</td>\n",
       "      <td>-0.686780</td>\n",
       "      <td>7.028</td>\n",
       "      <td>0.933507</td>\n",
       "    </tr>\n",
       "    <tr>\n",
       "      <th>2023-05-19</th>\n",
       "      <td>1138.400024</td>\n",
       "      <td>-0.358860</td>\n",
       "      <td>39.785000</td>\n",
       "      <td>0.454489</td>\n",
       "      <td>11.268</td>\n",
       "      <td>-0.124091</td>\n",
       "      <td>54.779999</td>\n",
       "      <td>0.421631</td>\n",
       "      <td>100.639999</td>\n",
       "      <td>-0.445145</td>\n",
       "      <td>...</td>\n",
       "      <td>49.889999</td>\n",
       "      <td>-0.577921</td>\n",
       "      <td>20.715000</td>\n",
       "      <td>0.778399</td>\n",
       "      <td>402.820007</td>\n",
       "      <td>-0.183366</td>\n",
       "      <td>23.969999</td>\n",
       "      <td>0.461017</td>\n",
       "      <td>7.056</td>\n",
       "      <td>0.398411</td>\n",
       "    </tr>\n",
       "    <tr>\n",
       "      <th>2023-05-22</th>\n",
       "      <td>1160.099976</td>\n",
       "      <td>1.906180</td>\n",
       "      <td>40.150002</td>\n",
       "      <td>0.917435</td>\n",
       "      <td>11.478</td>\n",
       "      <td>1.863685</td>\n",
       "      <td>55.279999</td>\n",
       "      <td>0.912742</td>\n",
       "      <td>100.330002</td>\n",
       "      <td>-0.308026</td>\n",
       "      <td>...</td>\n",
       "      <td>50.360001</td>\n",
       "      <td>0.942075</td>\n",
       "      <td>20.745001</td>\n",
       "      <td>0.144826</td>\n",
       "      <td>404.369995</td>\n",
       "      <td>0.384784</td>\n",
       "      <td>24.004999</td>\n",
       "      <td>0.146015</td>\n",
       "      <td>7.179</td>\n",
       "      <td>1.743193</td>\n",
       "    </tr>\n",
       "    <tr>\n",
       "      <th>2023-05-23</th>\n",
       "      <td>1420.709961</td>\n",
       "      <td>22.464442</td>\n",
       "      <td>NaN</td>\n",
       "      <td>NaN</td>\n",
       "      <td>NaN</td>\n",
       "      <td>NaN</td>\n",
       "      <td>54.220001</td>\n",
       "      <td>-1.917506</td>\n",
       "      <td>NaN</td>\n",
       "      <td>NaN</td>\n",
       "      <td>...</td>\n",
       "      <td>53.808102</td>\n",
       "      <td>6.846904</td>\n",
       "      <td>NaN</td>\n",
       "      <td>NaN</td>\n",
       "      <td>NaN</td>\n",
       "      <td>NaN</td>\n",
       "      <td>NaN</td>\n",
       "      <td>NaN</td>\n",
       "      <td>NaN</td>\n",
       "      <td>NaN</td>\n",
       "    </tr>\n",
       "    <tr>\n",
       "      <th>2023-05-24</th>\n",
       "      <td>1143.500000</td>\n",
       "      <td>-19.512073</td>\n",
       "      <td>39.834999</td>\n",
       "      <td>-0.784564</td>\n",
       "      <td>11.150</td>\n",
       "      <td>-2.857641</td>\n",
       "      <td>53.560001</td>\n",
       "      <td>-1.217263</td>\n",
       "      <td>101.080002</td>\n",
       "      <td>0.747533</td>\n",
       "      <td>...</td>\n",
       "      <td>49.419998</td>\n",
       "      <td>-8.155098</td>\n",
       "      <td>20.360001</td>\n",
       "      <td>-1.855870</td>\n",
       "      <td>397.929993</td>\n",
       "      <td>-1.592601</td>\n",
       "      <td>23.910000</td>\n",
       "      <td>-0.395748</td>\n",
       "      <td>7.002</td>\n",
       "      <td>-2.465525</td>\n",
       "    </tr>\n",
       "  </tbody>\n",
       "</table>\n",
       "<p>5 rows × 22 columns</p>\n",
       "</div>"
      ],
      "text/plain": [
       "            AIAG.L_Close  AIAG.L_Change  NBTK.DE_Close  NBTK.DE_Change  \\\n",
       "2023-05-18   1142.500000       2.816779      39.605000        0.904457   \n",
       "2023-05-19   1138.400024      -0.358860      39.785000        0.454489   \n",
       "2023-05-22   1160.099976       1.906180      40.150002        0.917435   \n",
       "2023-05-23   1420.709961      22.464442            NaN             NaN   \n",
       "2023-05-24   1143.500000     -19.512073      39.834999       -0.784564   \n",
       "\n",
       "            XMLH.DE_Close  XMLH.DE_Change  ROBO_Close  ROBO_Change  \\\n",
       "2023-05-18         11.282        1.111307   54.549999     1.394052   \n",
       "2023-05-19         11.268       -0.124091   54.779999     0.421631   \n",
       "2023-05-22         11.478        1.863685   55.279999     0.912742   \n",
       "2023-05-23            NaN             NaN   54.220001    -1.917506   \n",
       "2023-05-24         11.150       -2.857641   53.560001    -1.217263   \n",
       "\n",
       "            TIUP.DE_Close  TIUP.DE_Change  ...  VFEM.AS_Close  VFEM.AS_Change  \\\n",
       "2023-05-18     101.089996        0.262831  ...      50.180000        0.139692   \n",
       "2023-05-19     100.639999       -0.445145  ...      49.889999       -0.577921   \n",
       "2023-05-22     100.330002       -0.308026  ...      50.360001        0.942075   \n",
       "2023-05-23            NaN             NaN  ...      53.808102        6.846904   \n",
       "2023-05-24     101.080002        0.747533  ...      49.419998       -8.155098   \n",
       "\n",
       "            DXSA.DE_Close  DXSA.DE_Change  SXR8.DE_Close  SXR8.DE_Change  \\\n",
       "2023-05-18      20.555000        0.464327     403.559998        1.788281   \n",
       "2023-05-19      20.715000        0.778399     402.820007       -0.183366   \n",
       "2023-05-22      20.745001        0.144826     404.369995        0.384784   \n",
       "2023-05-23            NaN             NaN            NaN             NaN   \n",
       "2023-05-24      20.360001       -1.855870     397.929993       -1.592601   \n",
       "\n",
       "            IPRP.AS_Close  IPRP.AS_Change  2B78.DE_Close  2B78.DE_Change  \n",
       "2023-05-18      23.860001       -0.686780          7.028        0.933507  \n",
       "2023-05-19      23.969999        0.461017          7.056        0.398411  \n",
       "2023-05-22      24.004999        0.146015          7.179        1.743193  \n",
       "2023-05-23            NaN             NaN            NaN             NaN  \n",
       "2023-05-24      23.910000       -0.395748          7.002       -2.465525  \n",
       "\n",
       "[5 rows x 22 columns]"
      ]
     },
     "execution_count": 4,
     "metadata": {},
     "output_type": "execute_result"
    }
   ],
   "source": [
    "# Make one DataFrame with all tickers' data so calculations can be vectorized:\n",
    "df = pd.DataFrame(index=sorted(dates))\n",
    "for ticker_df in dfs:\n",
    "    tick = ticker_df[\"Tick\"].iloc[0]\n",
    "    for col in (\"Close\", \"Change\"):\n",
    "        df[f\"{tick}_{col}\"] = ticker_df.set_index(\"Date\")[col]\n",
    "df.tail()"
   ]
  },
  {
   "cell_type": "code",
   "execution_count": 5,
   "id": "64677f3e-6582-446a-b8f6-c2a64ca71eaf",
   "metadata": {},
   "outputs": [
    {
     "data": {
      "text/html": [
       "<div>\n",
       "<style scoped>\n",
       "    .dataframe tbody tr th:only-of-type {\n",
       "        vertical-align: middle;\n",
       "    }\n",
       "\n",
       "    .dataframe tbody tr th {\n",
       "        vertical-align: top;\n",
       "    }\n",
       "\n",
       "    .dataframe thead th {\n",
       "        text-align: right;\n",
       "    }\n",
       "</style>\n",
       "<table border=\"1\" class=\"dataframe\">\n",
       "  <thead>\n",
       "    <tr style=\"text-align: right;\">\n",
       "      <th></th>\n",
       "      <th>min_pct_change</th>\n",
       "      <th>min_ticker_close_value</th>\n",
       "    </tr>\n",
       "  </thead>\n",
       "  <tbody>\n",
       "    <tr>\n",
       "      <th>2023-05-18</th>\n",
       "      <td>IPRP.AS_Change</td>\n",
       "      <td>23.860001</td>\n",
       "    </tr>\n",
       "    <tr>\n",
       "      <th>2023-05-19</th>\n",
       "      <td>VFEM.AS_Change</td>\n",
       "      <td>49.889999</td>\n",
       "    </tr>\n",
       "    <tr>\n",
       "      <th>2023-05-22</th>\n",
       "      <td>TIUP.DE_Change</td>\n",
       "      <td>100.330002</td>\n",
       "    </tr>\n",
       "    <tr>\n",
       "      <th>2023-05-23</th>\n",
       "      <td>ROBO_Change</td>\n",
       "      <td>54.220001</td>\n",
       "    </tr>\n",
       "    <tr>\n",
       "      <th>2023-05-24</th>\n",
       "      <td>AIAG.L_Change</td>\n",
       "      <td>1143.500000</td>\n",
       "    </tr>\n",
       "  </tbody>\n",
       "</table>\n",
       "</div>"
      ],
      "text/plain": [
       "            min_pct_change  min_ticker_close_value\n",
       "2023-05-18  IPRP.AS_Change               23.860001\n",
       "2023-05-19  VFEM.AS_Change               49.889999\n",
       "2023-05-22  TIUP.DE_Change              100.330002\n",
       "2023-05-23     ROBO_Change               54.220001\n",
       "2023-05-24   AIAG.L_Change             1143.500000"
      ]
     },
     "execution_count": 5,
     "metadata": {},
     "output_type": "execute_result"
    }
   ],
   "source": [
    "# Create column to identify ticker with minimum percent change in each row:\n",
    "pct_change_cols = [c for c in df.columns if c.endswith(\"_Change\")]\n",
    "df[\"min_pct_change\"] = df[pct_change_cols].idxmin(axis=1)\n",
    "\n",
    "# Add the close value for the minimum identified ticker:\n",
    "df[\"min_ticker_close_value\"] = df.apply(\n",
    "    lambda row: row[row[\"min_pct_change\"].replace(\"Change\", \"Close\")], axis=1)\n",
    "\n",
    "df[[\"min_pct_change\", \"min_ticker_close_value\"]].tail()"
   ]
  },
  {
   "cell_type": "code",
   "execution_count": 6,
   "id": "a661fb0d-bfdb-4803-bbd6-c243491b9ff5",
   "metadata": {
    "tags": []
   },
   "outputs": [
    {
     "data": {
      "text/html": [
       "<div>\n",
       "<style scoped>\n",
       "    .dataframe tbody tr th:only-of-type {\n",
       "        vertical-align: middle;\n",
       "    }\n",
       "\n",
       "    .dataframe tbody tr th {\n",
       "        vertical-align: top;\n",
       "    }\n",
       "\n",
       "    .dataframe thead th {\n",
       "        text-align: right;\n",
       "    }\n",
       "</style>\n",
       "<table border=\"1\" class=\"dataframe\">\n",
       "  <thead>\n",
       "    <tr style=\"text-align: right;\">\n",
       "      <th></th>\n",
       "      <th>min_pct_change</th>\n",
       "      <th>min_ticker_close_value</th>\n",
       "      <th>shares_bought</th>\n",
       "    </tr>\n",
       "  </thead>\n",
       "  <tbody>\n",
       "    <tr>\n",
       "      <th>2023-05-18</th>\n",
       "      <td>IPRP.AS_Change</td>\n",
       "      <td>23.860001</td>\n",
       "      <td>419.111473</td>\n",
       "    </tr>\n",
       "    <tr>\n",
       "      <th>2023-05-19</th>\n",
       "      <td>VFEM.AS_Change</td>\n",
       "      <td>49.889999</td>\n",
       "      <td>200.440973</td>\n",
       "    </tr>\n",
       "    <tr>\n",
       "      <th>2023-05-22</th>\n",
       "      <td>TIUP.DE_Change</td>\n",
       "      <td>100.330002</td>\n",
       "      <td>99.671084</td>\n",
       "    </tr>\n",
       "    <tr>\n",
       "      <th>2023-05-23</th>\n",
       "      <td>ROBO_Change</td>\n",
       "      <td>54.220001</td>\n",
       "      <td>184.433784</td>\n",
       "    </tr>\n",
       "    <tr>\n",
       "      <th>2023-05-24</th>\n",
       "      <td>AIAG.L_Change</td>\n",
       "      <td>1143.500000</td>\n",
       "      <td>8.745081</td>\n",
       "    </tr>\n",
       "  </tbody>\n",
       "</table>\n",
       "</div>"
      ],
      "text/plain": [
       "            min_pct_change  min_ticker_close_value  shares_bought\n",
       "2023-05-18  IPRP.AS_Change               23.860001     419.111473\n",
       "2023-05-19  VFEM.AS_Change               49.889999     200.440973\n",
       "2023-05-22  TIUP.DE_Change              100.330002      99.671084\n",
       "2023-05-23     ROBO_Change               54.220001     184.433784\n",
       "2023-05-24   AIAG.L_Change             1143.500000       8.745081"
      ]
     },
     "execution_count": 6,
     "metadata": {},
     "output_type": "execute_result"
    }
   ],
   "source": [
    "# Divide min_ticker_close_value by daily invest amount to calculate number of shares bought:\n",
    "daily_invest = 10000 # 100 euros\n",
    "\n",
    "df[\"shares_bought\"] = daily_invest / df[\"min_ticker_close_value\"]\n",
    "df[[\"min_pct_change\", \"min_ticker_close_value\", \"shares_bought\"]].tail()"
   ]
  },
  {
   "cell_type": "code",
   "execution_count": 7,
   "id": "d7f63232-c8af-4d4d-845b-300eb72e84e4",
   "metadata": {
    "tags": []
   },
   "outputs": [
    {
     "data": {
      "text/plain": [
       "{'2B78.DE': 123962.54535624519,\n",
       " 'AIAG.L': 1317.869944215018,\n",
       " 'DXSA.DE': 49031.86703309511,\n",
       " 'IPRP.AS': 56423.91414001852,\n",
       " 'NBTK.DE': 29272.3992659141,\n",
       " 'ROBO': 48278.09672329894,\n",
       " 'SXR8.DE': 1331.723540851829,\n",
       " 'TIUP.DE': 21745.722089873623,\n",
       " 'VFEM.AS': 23856.47213781387,\n",
       " 'VWRL.AS': 972.1147536644552,\n",
       " 'XMLH.DE': 63386.1338518698}"
      ]
     },
     "execution_count": 7,
     "metadata": {},
     "output_type": "execute_result"
    }
   ],
   "source": [
    "# Calculate total shares bought in each ticker:\n",
    "shares_bought = df.groupby([\"min_pct_change\"])[\"shares_bought\"].sum()\n",
    "shares_bought = {k.replace(\"_Change\", \"\"): v for k, v in shares_bought.items()}\n",
    "shares_bought"
   ]
  },
  {
   "cell_type": "code",
   "execution_count": 8,
   "id": "e24fdf61-69cd-48e4-baa8-42a06d6dc563",
   "metadata": {},
   "outputs": [
    {
     "data": {
      "text/plain": [
       "{'AIAG.L': 1143.5,\n",
       " 'NBTK.DE': 39.834999084472656,\n",
       " 'XMLH.DE': 11.149999618530273,\n",
       " 'ROBO': 53.560001373291016,\n",
       " 'TIUP.DE': 101.08000183105469,\n",
       " 'VWRL.AS': 98.66999816894531,\n",
       " 'VFEM.AS': 49.41999816894531,\n",
       " 'DXSA.DE': 20.360000610351562,\n",
       " 'SXR8.DE': 397.92999267578125,\n",
       " 'IPRP.AS': 23.90999984741211,\n",
       " '2B78.DE': 7.001999855041504}"
      ]
     },
     "execution_count": 8,
     "metadata": {},
     "output_type": "execute_result"
    }
   ],
   "source": [
    "# Calculate final close prices of tickers:\n",
    "final_close_prices = {\n",
    "    k.replace(\"_Close\", \"\"): v\n",
    "    for k, v in df.ffill().iloc[-1].items() \n",
    "    if \"_Close\" in k\n",
    "}\n",
    "final_close_prices"
   ]
  },
  {
   "cell_type": "code",
   "execution_count": 9,
   "id": "5d5dbec1-4b3c-4dbc-87b5-433a9cff8120",
   "metadata": {
    "tags": []
   },
   "outputs": [
    {
     "data": {
      "text/plain": [
       "{'2B78.DE': 867985.7246150046,\n",
       " 'AIAG.L': 1506984.281209873,\n",
       " 'DXSA.DE': 998288.8427204932,\n",
       " 'IPRP.AS': 1349095.7784782366,\n",
       " 'NBTK.DE': 1166065.9979580063,\n",
       " 'ROBO': 2585774.9267997677,\n",
       " 'SXR8.DE': 529932.7388573338,\n",
       " 'TIUP.DE': 2198057.628662032,\n",
       " 'VFEM.AS': 1178986.8093682565,\n",
       " 'VWRL.AS': 95918.56096407652,\n",
       " 'XMLH.DE': 706755.3682684571}"
      ]
     },
     "execution_count": 9,
     "metadata": {},
     "output_type": "execute_result"
    }
   ],
   "source": [
    "# Calculate final value of holdings:\n",
    "final_value = {k: v * final_close_prices[k] for k, v in shares_bought.items()}\n",
    "final_value"
   ]
  },
  {
   "cell_type": "code",
   "execution_count": 10,
   "id": "1b46cdc1-535c-472c-b141-22d0f6f87889",
   "metadata": {
    "tags": []
   },
   "outputs": [
    {
     "data": {
      "text/plain": [
       "131838.4665790154"
      ]
     },
     "execution_count": 10,
     "metadata": {},
     "output_type": "execute_result"
    }
   ],
   "source": [
    "total_final_value = sum(final_value.values()) / 100\n",
    "total_final_value"
   ]
  },
  {
   "cell_type": "code",
   "execution_count": 11,
   "id": "ca923432-6b7c-4893-b745-3b395c9258fd",
   "metadata": {
    "tags": []
   },
   "outputs": [
    {
     "data": {
      "text/plain": [
       "129200.0"
      ]
     },
     "execution_count": 11,
     "metadata": {},
     "output_type": "execute_result"
    }
   ],
   "source": [
    "amount_invested = daily_invest * len(df) / 100\n",
    "amount_invested"
   ]
  },
  {
   "cell_type": "code",
   "execution_count": 12,
   "id": "52942c71-f999-417b-a2ac-13bdc6fc9c73",
   "metadata": {
    "tags": []
   },
   "outputs": [
    {
     "data": {
      "text/plain": [
       "0.02042156794903557"
      ]
     },
     "execution_count": 12,
     "metadata": {},
     "output_type": "execute_result"
    }
   ],
   "source": [
    "pct_increase = (total_final_value - amount_invested) / amount_invested\n",
    "pct_increase"
   ]
  },
  {
   "cell_type": "code",
   "execution_count": null,
   "id": "ff4f4a46-b53d-48a2-aa82-adca2c186b66",
   "metadata": {},
   "outputs": [],
   "source": []
  }
 ],
 "metadata": {
  "kernelspec": {
   "display_name": "Python 3",
   "language": "python",
   "name": "python3"
  },
  "language_info": {
   "codemirror_mode": {
    "name": "ipython",
    "version": 3
   },
   "file_extension": ".py",
   "mimetype": "text/x-python",
   "name": "python",
   "nbconvert_exporter": "python",
   "pygments_lexer": "ipython3",
   "version": "3.9.2"
  }
 },
 "nbformat": 4,
 "nbformat_minor": 5
}
